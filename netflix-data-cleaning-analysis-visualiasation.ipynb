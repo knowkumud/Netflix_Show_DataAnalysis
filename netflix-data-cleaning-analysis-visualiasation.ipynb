{
  "cells": [
    {
      "cell_type": "markdown",
      "id": "b616d127",
      "metadata": {
        "papermill": {
          "duration": 0.015278,
          "end_time": "2022-09-24T05:59:50.800187",
          "exception": false,
          "start_time": "2022-09-24T05:59:50.784909",
          "status": "completed"
        },
        "tags": [],
        "id": "b616d127"
      },
      "source": [
        "# Netflix Data: Cleaning, Analysis and Visualisation\n",
        "By Kumud Rathore, Priyodip Sanyal, Om Bhayde & Sharon Reji\n",
        "\n",
        "This file was obtained from [Kaggle](https://www.kaggle.com/datasets/ariyoomotade/netflix-data-cleaning-analysis-and-visualization) and the purpose of this analysis is to understand the content strategy and changes the streaming platform Netflix has done between 2008-2021."
      ]
    },
    {
      "cell_type": "markdown",
      "id": "07736ec7",
      "metadata": {
        "papermill": {
          "duration": 0.015133,
          "end_time": "2022-09-24T05:59:50.829470",
          "exception": false,
          "start_time": "2022-09-24T05:59:50.814337",
          "status": "completed"
        },
        "tags": [],
        "id": "07736ec7"
      },
      "source": [
        "##Discussing the dataset\n",
        "There is a single dataset that is being used, the netflix1.csv. This file was obtained from [Kaggle](https://www.kaggle.com/datasets/ariyoomotade/netflix-data-cleaning-analysis-and-visualization) and it is an already cleaned version of another file.\n",
        "\n",
        "This data set consist on contents added to Netflix from 2008 to 2021. The variables of this data set are:\n",
        "- *show_id*: Netflix ID of the media.\n",
        "- *Type*: Movie or TV Show.\n",
        "- *title*: Title of the media.\n",
        "- *director*: Director of the media.\n",
        "- *country*: Country in which the movie was made.\n",
        "- *date_added*: Date in which the media was added.\n",
        "- *release_year*: Year in which the media was released.\n",
        "- *rating*: Age rating of the media.\n",
        "- *duration*: Duration of the media.\n",
        "- *listen_in*: Classification given by Netflix."
      ]
    },
    {
      "cell_type": "markdown",
      "id": "075cd2b4",
      "metadata": {
        "papermill": {
          "duration": 0.013379,
          "end_time": "2022-09-24T05:59:50.856617",
          "exception": false,
          "start_time": "2022-09-24T05:59:50.843238",
          "status": "completed"
        },
        "tags": [],
        "id": "075cd2b4"
      },
      "source": [
        "## Importing Libraries"
      ]
    },
    {
      "cell_type": "code",
      "execution_count": null,
      "id": "ec014a08",
      "metadata": {
        "execution": {
          "iopub.execute_input": "2022-09-24T05:59:50.887565Z",
          "iopub.status.busy": "2022-09-24T05:59:50.887134Z",
          "iopub.status.idle": "2022-09-24T05:59:51.922302Z",
          "shell.execute_reply": "2022-09-24T05:59:51.920941Z"
        },
        "papermill": {
          "duration": 1.054392,
          "end_time": "2022-09-24T05:59:51.926223",
          "exception": false,
          "start_time": "2022-09-24T05:59:50.871831",
          "status": "completed"
        },
        "tags": [],
        "id": "ec014a08"
      },
      "outputs": [],
      "source": [
        "import pandas as pd\n",
        "import numpy as np\n",
        "import seaborn as sns\n",
        "import matplotlib.pyplot as plt"
      ]
    },
    {
      "cell_type": "markdown",
      "id": "b465f650",
      "metadata": {
        "papermill": {
          "duration": 0.014529,
          "end_time": "2022-09-24T05:59:51.958800",
          "exception": false,
          "start_time": "2022-09-24T05:59:51.944271",
          "status": "completed"
        },
        "tags": [],
        "id": "b465f650"
      },
      "source": [
        "##Gathering\n",
        "In this section of the report, we will gather the dataset and turn it into a DataFrame."
      ]
    },
    {
      "cell_type": "code",
      "execution_count": null,
      "id": "1a0cb2fb",
      "metadata": {
        "execution": {
          "iopub.execute_input": "2022-09-24T05:59:51.989472Z",
          "iopub.status.busy": "2022-09-24T05:59:51.989056Z",
          "iopub.status.idle": "2022-09-24T05:59:52.080379Z",
          "shell.execute_reply": "2022-09-24T05:59:52.079197Z"
        },
        "papermill": {
          "duration": 0.10972,
          "end_time": "2022-09-24T05:59:52.083724",
          "exception": false,
          "start_time": "2022-09-24T05:59:51.974004",
          "status": "completed"
        },
        "tags": [],
        "id": "1a0cb2fb",
        "outputId": "908279d2-a813-41cf-e40c-d701c710218d"
      },
      "outputs": [
        {
          "data": {
            "text/html": [
              "<div>\n",
              "<style scoped>\n",
              "    .dataframe tbody tr th:only-of-type {\n",
              "        vertical-align: middle;\n",
              "    }\n",
              "\n",
              "    .dataframe tbody tr th {\n",
              "        vertical-align: top;\n",
              "    }\n",
              "\n",
              "    .dataframe thead th {\n",
              "        text-align: right;\n",
              "    }\n",
              "</style>\n",
              "<table border=\"1\" class=\"dataframe\">\n",
              "  <thead>\n",
              "    <tr style=\"text-align: right;\">\n",
              "      <th></th>\n",
              "      <th>show_id</th>\n",
              "      <th>type</th>\n",
              "      <th>title</th>\n",
              "      <th>director</th>\n",
              "      <th>country</th>\n",
              "      <th>date_added</th>\n",
              "      <th>release_year</th>\n",
              "      <th>rating</th>\n",
              "      <th>duration</th>\n",
              "      <th>listed_in</th>\n",
              "    </tr>\n",
              "  </thead>\n",
              "  <tbody>\n",
              "    <tr>\n",
              "      <th>0</th>\n",
              "      <td>s1</td>\n",
              "      <td>Movie</td>\n",
              "      <td>Dick Johnson Is Dead</td>\n",
              "      <td>Kirsten Johnson</td>\n",
              "      <td>United States</td>\n",
              "      <td>9/25/2021</td>\n",
              "      <td>2020</td>\n",
              "      <td>PG-13</td>\n",
              "      <td>90 min</td>\n",
              "      <td>Documentaries</td>\n",
              "    </tr>\n",
              "    <tr>\n",
              "      <th>1</th>\n",
              "      <td>s3</td>\n",
              "      <td>TV Show</td>\n",
              "      <td>Ganglands</td>\n",
              "      <td>Julien Leclercq</td>\n",
              "      <td>France</td>\n",
              "      <td>9/24/2021</td>\n",
              "      <td>2021</td>\n",
              "      <td>TV-MA</td>\n",
              "      <td>1 Season</td>\n",
              "      <td>Crime TV Shows, International TV Shows, TV Act...</td>\n",
              "    </tr>\n",
              "    <tr>\n",
              "      <th>2</th>\n",
              "      <td>s6</td>\n",
              "      <td>TV Show</td>\n",
              "      <td>Midnight Mass</td>\n",
              "      <td>Mike Flanagan</td>\n",
              "      <td>United States</td>\n",
              "      <td>9/24/2021</td>\n",
              "      <td>2021</td>\n",
              "      <td>TV-MA</td>\n",
              "      <td>1 Season</td>\n",
              "      <td>TV Dramas, TV Horror, TV Mysteries</td>\n",
              "    </tr>\n",
              "    <tr>\n",
              "      <th>3</th>\n",
              "      <td>s14</td>\n",
              "      <td>Movie</td>\n",
              "      <td>Confessions of an Invisible Girl</td>\n",
              "      <td>Bruno Garotti</td>\n",
              "      <td>Brazil</td>\n",
              "      <td>9/22/2021</td>\n",
              "      <td>2021</td>\n",
              "      <td>TV-PG</td>\n",
              "      <td>91 min</td>\n",
              "      <td>Children &amp; Family Movies, Comedies</td>\n",
              "    </tr>\n",
              "    <tr>\n",
              "      <th>4</th>\n",
              "      <td>s8</td>\n",
              "      <td>Movie</td>\n",
              "      <td>Sankofa</td>\n",
              "      <td>Haile Gerima</td>\n",
              "      <td>United States</td>\n",
              "      <td>9/24/2021</td>\n",
              "      <td>1993</td>\n",
              "      <td>TV-MA</td>\n",
              "      <td>125 min</td>\n",
              "      <td>Dramas, Independent Movies, International Movies</td>\n",
              "    </tr>\n",
              "  </tbody>\n",
              "</table>\n",
              "</div>"
            ],
            "text/plain": [
              "  show_id     type                             title         director  \\\n",
              "0      s1    Movie              Dick Johnson Is Dead  Kirsten Johnson   \n",
              "1      s3  TV Show                         Ganglands  Julien Leclercq   \n",
              "2      s6  TV Show                     Midnight Mass    Mike Flanagan   \n",
              "3     s14    Movie  Confessions of an Invisible Girl    Bruno Garotti   \n",
              "4      s8    Movie                           Sankofa     Haile Gerima   \n",
              "\n",
              "         country date_added  release_year rating  duration  \\\n",
              "0  United States  9/25/2021          2020  PG-13    90 min   \n",
              "1         France  9/24/2021          2021  TV-MA  1 Season   \n",
              "2  United States  9/24/2021          2021  TV-MA  1 Season   \n",
              "3         Brazil  9/22/2021          2021  TV-PG    91 min   \n",
              "4  United States  9/24/2021          1993  TV-MA   125 min   \n",
              "\n",
              "                                           listed_in  \n",
              "0                                      Documentaries  \n",
              "1  Crime TV Shows, International TV Shows, TV Act...  \n",
              "2                 TV Dramas, TV Horror, TV Mysteries  \n",
              "3                 Children & Family Movies, Comedies  \n",
              "4   Dramas, Independent Movies, International Movies  "
            ]
          },
          "execution_count": 2,
          "metadata": {},
          "output_type": "execute_result"
        }
      ],
      "source": [
        "# Importing the data from a csv file to a DataFrame\n",
        "df = pd.read_csv(\"../input/netflix-data-cleaning-analysis-and-visualization/netflix1.csv\")\n",
        "# Showing the first five values of the DataFrame\n",
        "df.head()"
      ]
    },
    {
      "cell_type": "markdown",
      "id": "699927c3",
      "metadata": {
        "papermill": {
          "duration": 0.014403,
          "end_time": "2022-09-24T05:59:52.112269",
          "exception": false,
          "start_time": "2022-09-24T05:59:52.097866",
          "status": "completed"
        },
        "tags": [],
        "id": "699927c3"
      },
      "source": [
        "### Assessing\n",
        "This section of the report we will assess any issues the data may have."
      ]
    },
    {
      "cell_type": "code",
      "execution_count": null,
      "id": "0b9a3207",
      "metadata": {
        "execution": {
          "iopub.execute_input": "2022-09-24T05:59:52.142748Z",
          "iopub.status.busy": "2022-09-24T05:59:52.141546Z",
          "iopub.status.idle": "2022-09-24T05:59:52.169922Z",
          "shell.execute_reply": "2022-09-24T05:59:52.168694Z"
        },
        "papermill": {
          "duration": 0.046315,
          "end_time": "2022-09-24T05:59:52.172568",
          "exception": false,
          "start_time": "2022-09-24T05:59:52.126253",
          "status": "completed"
        },
        "tags": [],
        "id": "0b9a3207",
        "outputId": "b17b561f-f589-474b-e662-f0061a41fbe5"
      },
      "outputs": [
        {
          "name": "stdout",
          "output_type": "stream",
          "text": [
            "<class 'pandas.core.frame.DataFrame'>\n",
            "RangeIndex: 8790 entries, 0 to 8789\n",
            "Data columns (total 10 columns):\n",
            " #   Column        Non-Null Count  Dtype \n",
            "---  ------        --------------  ----- \n",
            " 0   show_id       8790 non-null   object\n",
            " 1   type          8790 non-null   object\n",
            " 2   title         8790 non-null   object\n",
            " 3   director      8790 non-null   object\n",
            " 4   country       8790 non-null   object\n",
            " 5   date_added    8790 non-null   object\n",
            " 6   release_year  8790 non-null   int64 \n",
            " 7   rating        8790 non-null   object\n",
            " 8   duration      8790 non-null   object\n",
            " 9   listed_in     8790 non-null   object\n",
            "dtypes: int64(1), object(9)\n",
            "memory usage: 686.8+ KB\n"
          ]
        }
      ],
      "source": [
        "# Let's check the status of the data\n",
        "df.info()"
      ]
    },
    {
      "cell_type": "code",
      "execution_count": null,
      "id": "5f30190e",
      "metadata": {
        "execution": {
          "iopub.execute_input": "2022-09-24T05:59:52.203365Z",
          "iopub.status.busy": "2022-09-24T05:59:52.202607Z",
          "iopub.status.idle": "2022-09-24T05:59:52.224523Z",
          "shell.execute_reply": "2022-09-24T05:59:52.223598Z"
        },
        "papermill": {
          "duration": 0.040175,
          "end_time": "2022-09-24T05:59:52.227078",
          "exception": false,
          "start_time": "2022-09-24T05:59:52.186903",
          "status": "completed"
        },
        "tags": [],
        "id": "5f30190e",
        "outputId": "561d13f3-ccef-4a0f-f02d-f9281341d38a"
      },
      "outputs": [
        {
          "data": {
            "text/html": [
              "<div>\n",
              "<style scoped>\n",
              "    .dataframe tbody tr th:only-of-type {\n",
              "        vertical-align: middle;\n",
              "    }\n",
              "\n",
              "    .dataframe tbody tr th {\n",
              "        vertical-align: top;\n",
              "    }\n",
              "\n",
              "    .dataframe thead th {\n",
              "        text-align: right;\n",
              "    }\n",
              "</style>\n",
              "<table border=\"1\" class=\"dataframe\">\n",
              "  <thead>\n",
              "    <tr style=\"text-align: right;\">\n",
              "      <th></th>\n",
              "      <th>release_year</th>\n",
              "    </tr>\n",
              "  </thead>\n",
              "  <tbody>\n",
              "    <tr>\n",
              "      <th>count</th>\n",
              "      <td>8790.000000</td>\n",
              "    </tr>\n",
              "    <tr>\n",
              "      <th>mean</th>\n",
              "      <td>2014.183163</td>\n",
              "    </tr>\n",
              "    <tr>\n",
              "      <th>std</th>\n",
              "      <td>8.825466</td>\n",
              "    </tr>\n",
              "    <tr>\n",
              "      <th>min</th>\n",
              "      <td>1925.000000</td>\n",
              "    </tr>\n",
              "    <tr>\n",
              "      <th>25%</th>\n",
              "      <td>2013.000000</td>\n",
              "    </tr>\n",
              "    <tr>\n",
              "      <th>50%</th>\n",
              "      <td>2017.000000</td>\n",
              "    </tr>\n",
              "    <tr>\n",
              "      <th>75%</th>\n",
              "      <td>2019.000000</td>\n",
              "    </tr>\n",
              "    <tr>\n",
              "      <th>max</th>\n",
              "      <td>2021.000000</td>\n",
              "    </tr>\n",
              "  </tbody>\n",
              "</table>\n",
              "</div>"
            ],
            "text/plain": [
              "       release_year\n",
              "count   8790.000000\n",
              "mean    2014.183163\n",
              "std        8.825466\n",
              "min     1925.000000\n",
              "25%     2013.000000\n",
              "50%     2017.000000\n",
              "75%     2019.000000\n",
              "max     2021.000000"
            ]
          },
          "execution_count": 4,
          "metadata": {},
          "output_type": "execute_result"
        }
      ],
      "source": [
        "df.describe()"
      ]
    },
    {
      "cell_type": "code",
      "execution_count": null,
      "id": "fb0bbd70",
      "metadata": {
        "execution": {
          "iopub.execute_input": "2022-09-24T05:59:52.261266Z",
          "iopub.status.busy": "2022-09-24T05:59:52.260868Z",
          "iopub.status.idle": "2022-09-24T05:59:52.282642Z",
          "shell.execute_reply": "2022-09-24T05:59:52.281361Z"
        },
        "papermill": {
          "duration": 0.040967,
          "end_time": "2022-09-24T05:59:52.286007",
          "exception": false,
          "start_time": "2022-09-24T05:59:52.245040",
          "status": "completed"
        },
        "tags": [],
        "id": "fb0bbd70",
        "outputId": "50781a1c-6f4e-4645-e2f1-534b9f26473a"
      },
      "outputs": [
        {
          "data": {
            "text/plain": [
              "False    8790\n",
              "dtype: int64"
            ]
          },
          "execution_count": 5,
          "metadata": {},
          "output_type": "execute_result"
        }
      ],
      "source": [
        "# Checking if there are any duplicates\n",
        "df.duplicated().value_counts()"
      ]
    },
    {
      "cell_type": "code",
      "execution_count": null,
      "id": "a45a804e",
      "metadata": {
        "execution": {
          "iopub.execute_input": "2022-09-24T05:59:52.317928Z",
          "iopub.status.busy": "2022-09-24T05:59:52.317498Z",
          "iopub.status.idle": "2022-09-24T05:59:52.343830Z",
          "shell.execute_reply": "2022-09-24T05:59:52.342609Z"
        },
        "papermill": {
          "duration": 0.044669,
          "end_time": "2022-09-24T05:59:52.346315",
          "exception": false,
          "start_time": "2022-09-24T05:59:52.301646",
          "status": "completed"
        },
        "tags": [],
        "id": "a45a804e",
        "outputId": "e4e26bd2-e11d-4ba8-bcb6-05ef26a3f5ee"
      },
      "outputs": [
        {
          "data": {
            "text/html": [
              "<div>\n",
              "<style scoped>\n",
              "    .dataframe tbody tr th:only-of-type {\n",
              "        vertical-align: middle;\n",
              "    }\n",
              "\n",
              "    .dataframe tbody tr th {\n",
              "        vertical-align: top;\n",
              "    }\n",
              "\n",
              "    .dataframe thead th {\n",
              "        text-align: right;\n",
              "    }\n",
              "</style>\n",
              "<table border=\"1\" class=\"dataframe\">\n",
              "  <thead>\n",
              "    <tr style=\"text-align: right;\">\n",
              "      <th></th>\n",
              "      <th>show_id</th>\n",
              "      <th>type</th>\n",
              "      <th>title</th>\n",
              "      <th>director</th>\n",
              "      <th>country</th>\n",
              "      <th>date_added</th>\n",
              "      <th>release_year</th>\n",
              "      <th>rating</th>\n",
              "      <th>listed_in</th>\n",
              "    </tr>\n",
              "    <tr>\n",
              "      <th>duration</th>\n",
              "      <th></th>\n",
              "      <th></th>\n",
              "      <th></th>\n",
              "      <th></th>\n",
              "      <th></th>\n",
              "      <th></th>\n",
              "      <th></th>\n",
              "      <th></th>\n",
              "      <th></th>\n",
              "    </tr>\n",
              "  </thead>\n",
              "  <tbody>\n",
              "    <tr>\n",
              "      <th>1 Season</th>\n",
              "      <td>1791</td>\n",
              "      <td>1791</td>\n",
              "      <td>1791</td>\n",
              "      <td>1791</td>\n",
              "      <td>1791</td>\n",
              "      <td>1791</td>\n",
              "      <td>1791</td>\n",
              "      <td>1791</td>\n",
              "      <td>1791</td>\n",
              "    </tr>\n",
              "    <tr>\n",
              "      <th>2 Seasons</th>\n",
              "      <td>421</td>\n",
              "      <td>421</td>\n",
              "      <td>421</td>\n",
              "      <td>421</td>\n",
              "      <td>421</td>\n",
              "      <td>421</td>\n",
              "      <td>421</td>\n",
              "      <td>421</td>\n",
              "      <td>421</td>\n",
              "    </tr>\n",
              "    <tr>\n",
              "      <th>3 Seasons</th>\n",
              "      <td>198</td>\n",
              "      <td>198</td>\n",
              "      <td>198</td>\n",
              "      <td>198</td>\n",
              "      <td>198</td>\n",
              "      <td>198</td>\n",
              "      <td>198</td>\n",
              "      <td>198</td>\n",
              "      <td>198</td>\n",
              "    </tr>\n",
              "    <tr>\n",
              "      <th>90 min</th>\n",
              "      <td>152</td>\n",
              "      <td>152</td>\n",
              "      <td>152</td>\n",
              "      <td>152</td>\n",
              "      <td>152</td>\n",
              "      <td>152</td>\n",
              "      <td>152</td>\n",
              "      <td>152</td>\n",
              "      <td>152</td>\n",
              "    </tr>\n",
              "    <tr>\n",
              "      <th>94 min</th>\n",
              "      <td>146</td>\n",
              "      <td>146</td>\n",
              "      <td>146</td>\n",
              "      <td>146</td>\n",
              "      <td>146</td>\n",
              "      <td>146</td>\n",
              "      <td>146</td>\n",
              "      <td>146</td>\n",
              "      <td>146</td>\n",
              "    </tr>\n",
              "    <tr>\n",
              "      <th>...</th>\n",
              "      <td>...</td>\n",
              "      <td>...</td>\n",
              "      <td>...</td>\n",
              "      <td>...</td>\n",
              "      <td>...</td>\n",
              "      <td>...</td>\n",
              "      <td>...</td>\n",
              "      <td>...</td>\n",
              "      <td>...</td>\n",
              "    </tr>\n",
              "    <tr>\n",
              "      <th>201 min</th>\n",
              "      <td>1</td>\n",
              "      <td>1</td>\n",
              "      <td>1</td>\n",
              "      <td>1</td>\n",
              "      <td>1</td>\n",
              "      <td>1</td>\n",
              "      <td>1</td>\n",
              "      <td>1</td>\n",
              "      <td>1</td>\n",
              "    </tr>\n",
              "    <tr>\n",
              "      <th>200 min</th>\n",
              "      <td>1</td>\n",
              "      <td>1</td>\n",
              "      <td>1</td>\n",
              "      <td>1</td>\n",
              "      <td>1</td>\n",
              "      <td>1</td>\n",
              "      <td>1</td>\n",
              "      <td>1</td>\n",
              "      <td>1</td>\n",
              "    </tr>\n",
              "    <tr>\n",
              "      <th>196 min</th>\n",
              "      <td>1</td>\n",
              "      <td>1</td>\n",
              "      <td>1</td>\n",
              "      <td>1</td>\n",
              "      <td>1</td>\n",
              "      <td>1</td>\n",
              "      <td>1</td>\n",
              "      <td>1</td>\n",
              "      <td>1</td>\n",
              "    </tr>\n",
              "    <tr>\n",
              "      <th>43 min</th>\n",
              "      <td>1</td>\n",
              "      <td>1</td>\n",
              "      <td>1</td>\n",
              "      <td>1</td>\n",
              "      <td>1</td>\n",
              "      <td>1</td>\n",
              "      <td>1</td>\n",
              "      <td>1</td>\n",
              "      <td>1</td>\n",
              "    </tr>\n",
              "    <tr>\n",
              "      <th>10 min</th>\n",
              "      <td>1</td>\n",
              "      <td>1</td>\n",
              "      <td>1</td>\n",
              "      <td>1</td>\n",
              "      <td>1</td>\n",
              "      <td>1</td>\n",
              "      <td>1</td>\n",
              "      <td>1</td>\n",
              "      <td>1</td>\n",
              "    </tr>\n",
              "  </tbody>\n",
              "</table>\n",
              "<p>220 rows × 9 columns</p>\n",
              "</div>"
            ],
            "text/plain": [
              "           show_id  type  title  director  country  date_added  release_year  \\\n",
              "duration                                                                       \n",
              "1 Season      1791  1791   1791      1791     1791        1791          1791   \n",
              "2 Seasons      421   421    421       421      421         421           421   \n",
              "3 Seasons      198   198    198       198      198         198           198   \n",
              "90 min         152   152    152       152      152         152           152   \n",
              "94 min         146   146    146       146      146         146           146   \n",
              "...            ...   ...    ...       ...      ...         ...           ...   \n",
              "201 min          1     1      1         1        1           1             1   \n",
              "200 min          1     1      1         1        1           1             1   \n",
              "196 min          1     1      1         1        1           1             1   \n",
              "43 min           1     1      1         1        1           1             1   \n",
              "10 min           1     1      1         1        1           1             1   \n",
              "\n",
              "           rating  listed_in  \n",
              "duration                      \n",
              "1 Season     1791       1791  \n",
              "2 Seasons     421        421  \n",
              "3 Seasons     198        198  \n",
              "90 min        152        152  \n",
              "94 min        146        146  \n",
              "...           ...        ...  \n",
              "201 min         1          1  \n",
              "200 min         1          1  \n",
              "196 min         1          1  \n",
              "43 min          1          1  \n",
              "10 min          1          1  \n",
              "\n",
              "[220 rows x 9 columns]"
            ]
          },
          "execution_count": 6,
          "metadata": {},
          "output_type": "execute_result"
        }
      ],
      "source": [
        "df.groupby('duration').count().sort_values(by='show_id',ascending=False)"
      ]
    },
    {
      "cell_type": "code",
      "execution_count": null,
      "id": "876a5a88",
      "metadata": {
        "execution": {
          "iopub.execute_input": "2022-09-24T05:59:52.377443Z",
          "iopub.status.busy": "2022-09-24T05:59:52.377048Z",
          "iopub.status.idle": "2022-09-24T05:59:52.400987Z",
          "shell.execute_reply": "2022-09-24T05:59:52.399947Z"
        },
        "papermill": {
          "duration": 0.042201,
          "end_time": "2022-09-24T05:59:52.403312",
          "exception": false,
          "start_time": "2022-09-24T05:59:52.361111",
          "status": "completed"
        },
        "tags": [],
        "id": "876a5a88",
        "outputId": "f9428f57-28c2-4dc8-b121-68c17c467bda"
      },
      "outputs": [
        {
          "data": {
            "text/html": [
              "<div>\n",
              "<style scoped>\n",
              "    .dataframe tbody tr th:only-of-type {\n",
              "        vertical-align: middle;\n",
              "    }\n",
              "\n",
              "    .dataframe tbody tr th {\n",
              "        vertical-align: top;\n",
              "    }\n",
              "\n",
              "    .dataframe thead th {\n",
              "        text-align: right;\n",
              "    }\n",
              "</style>\n",
              "<table border=\"1\" class=\"dataframe\">\n",
              "  <thead>\n",
              "    <tr style=\"text-align: right;\">\n",
              "      <th></th>\n",
              "      <th>show_id</th>\n",
              "      <th>type</th>\n",
              "      <th>title</th>\n",
              "      <th>director</th>\n",
              "      <th>country</th>\n",
              "      <th>date_added</th>\n",
              "      <th>release_year</th>\n",
              "      <th>rating</th>\n",
              "      <th>listed_in</th>\n",
              "    </tr>\n",
              "    <tr>\n",
              "      <th>duration</th>\n",
              "      <th></th>\n",
              "      <th></th>\n",
              "      <th></th>\n",
              "      <th></th>\n",
              "      <th></th>\n",
              "      <th></th>\n",
              "      <th></th>\n",
              "      <th></th>\n",
              "      <th></th>\n",
              "    </tr>\n",
              "  </thead>\n",
              "  <tbody>\n",
              "    <tr>\n",
              "      <th>1 Season</th>\n",
              "      <td>1791</td>\n",
              "      <td>1791</td>\n",
              "      <td>1791</td>\n",
              "      <td>1791</td>\n",
              "      <td>1791</td>\n",
              "      <td>1791</td>\n",
              "      <td>1791</td>\n",
              "      <td>1791</td>\n",
              "      <td>1791</td>\n",
              "    </tr>\n",
              "    <tr>\n",
              "      <th>2 Seasons</th>\n",
              "      <td>421</td>\n",
              "      <td>421</td>\n",
              "      <td>421</td>\n",
              "      <td>421</td>\n",
              "      <td>421</td>\n",
              "      <td>421</td>\n",
              "      <td>421</td>\n",
              "      <td>421</td>\n",
              "      <td>421</td>\n",
              "    </tr>\n",
              "    <tr>\n",
              "      <th>3 Seasons</th>\n",
              "      <td>198</td>\n",
              "      <td>198</td>\n",
              "      <td>198</td>\n",
              "      <td>198</td>\n",
              "      <td>198</td>\n",
              "      <td>198</td>\n",
              "      <td>198</td>\n",
              "      <td>198</td>\n",
              "      <td>198</td>\n",
              "    </tr>\n",
              "    <tr>\n",
              "      <th>90 min</th>\n",
              "      <td>152</td>\n",
              "      <td>152</td>\n",
              "      <td>152</td>\n",
              "      <td>152</td>\n",
              "      <td>152</td>\n",
              "      <td>152</td>\n",
              "      <td>152</td>\n",
              "      <td>152</td>\n",
              "      <td>152</td>\n",
              "    </tr>\n",
              "    <tr>\n",
              "      <th>94 min</th>\n",
              "      <td>146</td>\n",
              "      <td>146</td>\n",
              "      <td>146</td>\n",
              "      <td>146</td>\n",
              "      <td>146</td>\n",
              "      <td>146</td>\n",
              "      <td>146</td>\n",
              "      <td>146</td>\n",
              "      <td>146</td>\n",
              "    </tr>\n",
              "    <tr>\n",
              "      <th>...</th>\n",
              "      <td>...</td>\n",
              "      <td>...</td>\n",
              "      <td>...</td>\n",
              "      <td>...</td>\n",
              "      <td>...</td>\n",
              "      <td>...</td>\n",
              "      <td>...</td>\n",
              "      <td>...</td>\n",
              "      <td>...</td>\n",
              "    </tr>\n",
              "    <tr>\n",
              "      <th>201 min</th>\n",
              "      <td>1</td>\n",
              "      <td>1</td>\n",
              "      <td>1</td>\n",
              "      <td>1</td>\n",
              "      <td>1</td>\n",
              "      <td>1</td>\n",
              "      <td>1</td>\n",
              "      <td>1</td>\n",
              "      <td>1</td>\n",
              "    </tr>\n",
              "    <tr>\n",
              "      <th>200 min</th>\n",
              "      <td>1</td>\n",
              "      <td>1</td>\n",
              "      <td>1</td>\n",
              "      <td>1</td>\n",
              "      <td>1</td>\n",
              "      <td>1</td>\n",
              "      <td>1</td>\n",
              "      <td>1</td>\n",
              "      <td>1</td>\n",
              "    </tr>\n",
              "    <tr>\n",
              "      <th>196 min</th>\n",
              "      <td>1</td>\n",
              "      <td>1</td>\n",
              "      <td>1</td>\n",
              "      <td>1</td>\n",
              "      <td>1</td>\n",
              "      <td>1</td>\n",
              "      <td>1</td>\n",
              "      <td>1</td>\n",
              "      <td>1</td>\n",
              "    </tr>\n",
              "    <tr>\n",
              "      <th>43 min</th>\n",
              "      <td>1</td>\n",
              "      <td>1</td>\n",
              "      <td>1</td>\n",
              "      <td>1</td>\n",
              "      <td>1</td>\n",
              "      <td>1</td>\n",
              "      <td>1</td>\n",
              "      <td>1</td>\n",
              "      <td>1</td>\n",
              "    </tr>\n",
              "    <tr>\n",
              "      <th>10 min</th>\n",
              "      <td>1</td>\n",
              "      <td>1</td>\n",
              "      <td>1</td>\n",
              "      <td>1</td>\n",
              "      <td>1</td>\n",
              "      <td>1</td>\n",
              "      <td>1</td>\n",
              "      <td>1</td>\n",
              "      <td>1</td>\n",
              "    </tr>\n",
              "  </tbody>\n",
              "</table>\n",
              "<p>220 rows × 9 columns</p>\n",
              "</div>"
            ],
            "text/plain": [
              "           show_id  type  title  director  country  date_added  release_year  \\\n",
              "duration                                                                       \n",
              "1 Season      1791  1791   1791      1791     1791        1791          1791   \n",
              "2 Seasons      421   421    421       421      421         421           421   \n",
              "3 Seasons      198   198    198       198      198         198           198   \n",
              "90 min         152   152    152       152      152         152           152   \n",
              "94 min         146   146    146       146      146         146           146   \n",
              "...            ...   ...    ...       ...      ...         ...           ...   \n",
              "201 min          1     1      1         1        1           1             1   \n",
              "200 min          1     1      1         1        1           1             1   \n",
              "196 min          1     1      1         1        1           1             1   \n",
              "43 min           1     1      1         1        1           1             1   \n",
              "10 min           1     1      1         1        1           1             1   \n",
              "\n",
              "           rating  listed_in  \n",
              "duration                      \n",
              "1 Season     1791       1791  \n",
              "2 Seasons     421        421  \n",
              "3 Seasons     198        198  \n",
              "90 min        152        152  \n",
              "94 min        146        146  \n",
              "...           ...        ...  \n",
              "201 min         1          1  \n",
              "200 min         1          1  \n",
              "196 min         1          1  \n",
              "43 min          1          1  \n",
              "10 min          1          1  \n",
              "\n",
              "[220 rows x 9 columns]"
            ]
          },
          "execution_count": 7,
          "metadata": {},
          "output_type": "execute_result"
        }
      ],
      "source": [
        "# Performing a basic visual analysis of the data.\n",
        "# pd.set_option('display.max_rows', 220)\n",
        "df.groupby('duration').count().sort_values(by='show_id',ascending=False)"
      ]
    },
    {
      "cell_type": "markdown",
      "id": "8a3d038e",
      "metadata": {
        "papermill": {
          "duration": 0.01489,
          "end_time": "2022-09-24T05:59:52.463960",
          "exception": false,
          "start_time": "2022-09-24T05:59:52.449070",
          "status": "completed"
        },
        "tags": [],
        "id": "8a3d038e"
      },
      "source": [
        "## Data Cleaning\n",
        "In this section of the the quality and redundance issues mentioned in the assessment."
      ]
    },
    {
      "cell_type": "code",
      "execution_count": null,
      "id": "e8bca93e",
      "metadata": {
        "execution": {
          "iopub.execute_input": "2022-09-24T05:59:52.496178Z",
          "iopub.status.busy": "2022-09-24T05:59:52.495761Z",
          "iopub.status.idle": "2022-09-24T05:59:52.500651Z",
          "shell.execute_reply": "2022-09-24T05:59:52.499858Z"
        },
        "papermill": {
          "duration": 0.023894,
          "end_time": "2022-09-24T05:59:52.503036",
          "exception": false,
          "start_time": "2022-09-24T05:59:52.479142",
          "status": "completed"
        },
        "tags": [],
        "id": "e8bca93e"
      },
      "outputs": [],
      "source": [
        "# Before cleaning, lets make a copy of the dataframe.\n",
        "df_clean = df.copy()"
      ]
    },
    {
      "cell_type": "markdown",
      "id": "fdd344a8",
      "metadata": {
        "papermill": {
          "duration": 0.014681,
          "end_time": "2022-09-24T05:59:52.533669",
          "exception": false,
          "start_time": "2022-09-24T05:59:52.518988",
          "status": "completed"
        },
        "tags": [],
        "id": "fdd344a8"
      },
      "source": [
        "### 'date_added' variable has wrong data type\n",
        "\n",
        "#### Define\n",
        "The variable 'date_added' has been categorised as an object (string), the most appropriate type of data for this variable would be datetime.\n",
        "\n"
      ]
    },
    {
      "cell_type": "code",
      "execution_count": null,
      "id": "e648e96e",
      "metadata": {
        "execution": {
          "iopub.execute_input": "2022-09-24T05:59:52.565236Z",
          "iopub.status.busy": "2022-09-24T05:59:52.564822Z",
          "iopub.status.idle": "2022-09-24T05:59:52.685504Z",
          "shell.execute_reply": "2022-09-24T05:59:52.684665Z"
        },
        "papermill": {
          "duration": 0.139389,
          "end_time": "2022-09-24T05:59:52.687984",
          "exception": false,
          "start_time": "2022-09-24T05:59:52.548595",
          "status": "completed"
        },
        "tags": [],
        "id": "e648e96e"
      },
      "outputs": [],
      "source": [
        "df_clean.date_added = pd.to_datetime(df_clean.date_added)"
      ]
    },
    {
      "cell_type": "markdown",
      "id": "52458baf",
      "metadata": {
        "papermill": {
          "duration": 0.015429,
          "end_time": "2022-09-24T05:59:52.718366",
          "exception": false,
          "start_time": "2022-09-24T05:59:52.702937",
          "status": "completed"
        },
        "tags": [],
        "id": "52458baf"
      },
      "source": [
        "#### Test"
      ]
    },
    {
      "cell_type": "code",
      "execution_count": null,
      "id": "e6c54679",
      "metadata": {
        "execution": {
          "iopub.execute_input": "2022-09-24T05:59:52.749727Z",
          "iopub.status.busy": "2022-09-24T05:59:52.749303Z",
          "iopub.status.idle": "2022-09-24T05:59:52.766096Z",
          "shell.execute_reply": "2022-09-24T05:59:52.764927Z"
        },
        "papermill": {
          "duration": 0.035203,
          "end_time": "2022-09-24T05:59:52.768402",
          "exception": false,
          "start_time": "2022-09-24T05:59:52.733199",
          "status": "completed"
        },
        "tags": [],
        "id": "e6c54679",
        "outputId": "ff6a3ba1-637b-454c-aa7b-bdee3b71b0b2"
      },
      "outputs": [
        {
          "name": "stdout",
          "output_type": "stream",
          "text": [
            "<class 'pandas.core.frame.DataFrame'>\n",
            "RangeIndex: 8790 entries, 0 to 8789\n",
            "Data columns (total 10 columns):\n",
            " #   Column        Non-Null Count  Dtype         \n",
            "---  ------        --------------  -----         \n",
            " 0   show_id       8790 non-null   object        \n",
            " 1   type          8790 non-null   object        \n",
            " 2   title         8790 non-null   object        \n",
            " 3   director      8790 non-null   object        \n",
            " 4   country       8790 non-null   object        \n",
            " 5   date_added    8790 non-null   datetime64[ns]\n",
            " 6   release_year  8790 non-null   int64         \n",
            " 7   rating        8790 non-null   object        \n",
            " 8   duration      8790 non-null   object        \n",
            " 9   listed_in     8790 non-null   object        \n",
            "dtypes: datetime64[ns](1), int64(1), object(8)\n",
            "memory usage: 686.8+ KB\n"
          ]
        }
      ],
      "source": [
        "\n",
        "df_clean.info()"
      ]
    },
    {
      "cell_type": "markdown",
      "id": "e09f8dfb",
      "metadata": {
        "papermill": {
          "duration": 0.015175,
          "end_time": "2022-09-24T05:59:52.799483",
          "exception": false,
          "start_time": "2022-09-24T05:59:52.784308",
          "status": "completed"
        },
        "tags": [],
        "id": "e09f8dfb"
      },
      "source": [
        "### 'listed_in' variable has several variables\n",
        "\n",
        "#### Define\n",
        "The 'listed_in' variable can have several categories per media, we would like to create new variables to be able to extract this and correctly filter the data. We will assume that the first category would be the 'main' category of the movie.\n",
        "\n",
        "#### Code"
      ]
    },
    {
      "cell_type": "markdown",
      "id": "d26ae7e2",
      "metadata": {
        "papermill": {
          "duration": 0.015489,
          "end_time": "2022-09-24T05:59:53.324589",
          "exception": false,
          "start_time": "2022-09-24T05:59:53.309100",
          "status": "completed"
        },
        "tags": [],
        "id": "d26ae7e2"
      },
      "source": [
        "### Two different observation on a single dataset\n",
        "\n",
        "####Define\n",
        "There are two different types of observations in a single data set: TV Shows and Movies. The solution would be to split the dataset into two.\n",
        "\n"
      ]
    },
    {
      "cell_type": "code",
      "execution_count": null,
      "id": "74984590",
      "metadata": {
        "execution": {
          "iopub.execute_input": "2022-09-24T05:59:53.357940Z",
          "iopub.status.busy": "2022-09-24T05:59:53.357150Z",
          "iopub.status.idle": "2022-09-24T05:59:53.369006Z",
          "shell.execute_reply": "2022-09-24T05:59:53.368081Z"
        },
        "papermill": {
          "duration": 0.031161,
          "end_time": "2022-09-24T05:59:53.371342",
          "exception": false,
          "start_time": "2022-09-24T05:59:53.340181",
          "status": "completed"
        },
        "tags": [],
        "id": "74984590"
      },
      "outputs": [],
      "source": [
        "df_tv = df_clean[df_clean.type == 'TV Show']\n",
        "df_movie = df_clean[df_clean.type == 'Movie']"
      ]
    },
    {
      "cell_type": "code",
      "execution_count": null,
      "id": "60137390",
      "metadata": {
        "execution": {
          "iopub.execute_input": "2022-09-24T05:59:53.895002Z",
          "iopub.status.busy": "2022-09-24T05:59:53.894111Z",
          "iopub.status.idle": "2022-09-24T05:59:54.103694Z",
          "shell.execute_reply": "2022-09-24T05:59:54.102447Z"
        },
        "papermill": {
          "duration": 0.230731,
          "end_time": "2022-09-24T05:59:54.106459",
          "exception": false,
          "start_time": "2022-09-24T05:59:53.875728",
          "status": "completed"
        },
        "tags": [],
        "id": "60137390"
      },
      "outputs": [],
      "source": [
        "df_clean.to_csv('Netflix_DF_cleaned.csv')\n",
        "df_tv.to_csv('Netflix_TV_cleaned.csv')\n",
        "df_movie.to_csv('Netflix_Movie_cleaned.csv')"
      ]
    },
    {
      "cell_type": "markdown",
      "id": "76cbe557",
      "metadata": {
        "papermill": {
          "duration": 0.016704,
          "end_time": "2022-09-24T05:59:54.141040",
          "exception": false,
          "start_time": "2022-09-24T05:59:54.124336",
          "status": "completed"
        },
        "tags": [],
        "id": "76cbe557"
      },
      "source": [
        "##Analysing and Visualisation of Data\n"
      ]
    },
    {
      "cell_type": "code",
      "execution_count": null,
      "id": "87131591",
      "metadata": {
        "execution": {
          "iopub.execute_input": "2022-09-24T05:59:54.210596Z",
          "iopub.status.busy": "2022-09-24T05:59:54.210177Z",
          "iopub.status.idle": "2022-09-24T05:59:54.780553Z",
          "shell.execute_reply": "2022-09-24T05:59:54.779422Z"
        },
        "papermill": {
          "duration": 0.591391,
          "end_time": "2022-09-24T05:59:54.783138",
          "exception": false,
          "start_time": "2022-09-24T05:59:54.191747",
          "status": "completed"
        },
        "tags": [],
        "id": "87131591",
        "outputId": "7931ddd9-f634-45cd-b888-42ca7c3d43d1"
      },
      "outputs": [
        {
          "data": {
            "image/png": "[encoded data removed]",
            "text/plain": [
              "<Figure size 1440x720 with 1 Axes>"
            ]
          },
          "metadata": {
            "needs_background": "light"
          },
          "output_type": "display_data"
        }
      ],
      "source": [
        "# Considering there are too many countries, we will limit our study to just the top 10 countries.\n",
        "plt.figure(figsize=[20,10])\n",
        "base_color = sns.color_palette('coolwarm',n_colors=5)\n",
        "tv_movie = sns.countplot(x=df_clean.date_added.dt.year, data=df_clean, hue='type', palette = base_color)\n",
        "tv_movie.set_title(\"Number of TV Shows and Movies Netflix has released per Year\",fontsize = 20)\n",
        "tv_movie.set_xlabel('Year',fontsize = 15)\n",
        "tv_movie.set_ylabel('Number of Movies/TV Shows',fontsize = 15)\n",
        "for container in tv_movie.containers:\n",
        "    tv_movie.bar_label(container)"
      ]
    },
    {
      "cell_type": "markdown",
      "id": "6f46da8d",
      "metadata": {
        "papermill": {
          "duration": 0.017553,
          "end_time": "2022-09-24T05:59:54.819437",
          "exception": false,
          "start_time": "2022-09-24T05:59:54.801884",
          "status": "completed"
        },
        "tags": [],
        "id": "6f46da8d"
      },
      "source": [
        "#### Comments on the Number of Netflix's media released per year.\n",
        "\n",
        "It seems like for both TV shows and Movies there has been a steady increase since the start of 2008; the only big drop happening in 2021 possibly due to the economic impact of COVID.\n",
        "\n",
        "Before 2017, the number of TV Shows and Movies brought to the streaming service was on par. However, after 2017 the company started introducing more movies into the service more than doubling TV Shows in the amount of content."
      ]
    },
    {
      "cell_type": "markdown",
      "id": "540cc2e7",
      "metadata": {
        "papermill": {
          "duration": 0.017499,
          "end_time": "2022-09-24T05:59:54.854785",
          "exception": false,
          "start_time": "2022-09-24T05:59:54.837286",
          "status": "completed"
        },
        "tags": [],
        "id": "540cc2e7"
      },
      "source": [
        "###TV Shows"
      ]
    },
    {
      "cell_type": "code",
      "execution_count": null,
      "id": "26f314a1",
      "metadata": {
        "execution": {
          "iopub.execute_input": "2022-09-24T05:59:54.891913Z",
          "iopub.status.busy": "2022-09-24T05:59:54.891484Z",
          "iopub.status.idle": "2022-09-24T05:59:54.899518Z",
          "shell.execute_reply": "2022-09-24T05:59:54.898507Z"
        },
        "papermill": {
          "duration": 0.029139,
          "end_time": "2022-09-24T05:59:54.901666",
          "exception": false,
          "start_time": "2022-09-24T05:59:54.872527",
          "status": "completed"
        },
        "tags": [],
        "id": "26f314a1",
        "outputId": "32ced5cf-a00e-4cf7-f99d-9532306de294"
      },
      "outputs": [
        {
          "data": {
            "text/plain": [
              "8790"
            ]
          },
          "execution_count": 22,
          "metadata": {},
          "output_type": "execute_result"
        }
      ],
      "source": [
        "df_clean.date_added.dt.year.count()"
      ]
    },
    {
      "cell_type": "code",
      "execution_count": null,
      "id": "87f161cb",
      "metadata": {
        "execution": {
          "iopub.execute_input": "2022-09-24T05:59:54.939924Z",
          "iopub.status.busy": "2022-09-24T05:59:54.939477Z",
          "iopub.status.idle": "2022-09-24T05:59:54.952557Z",
          "shell.execute_reply": "2022-09-24T05:59:54.951537Z"
        },
        "papermill": {
          "duration": 0.034822,
          "end_time": "2022-09-24T05:59:54.954584",
          "exception": false,
          "start_time": "2022-09-24T05:59:54.919762",
          "status": "completed"
        },
        "tags": [],
        "id": "87f161cb",
        "outputId": "87e91023-b245-4fbf-e1a0-82291dc2792f"
      },
      "outputs": [
        {
          "data": {
            "text/plain": [
              "59"
            ]
          },
          "execution_count": 23,
          "metadata": {},
          "output_type": "execute_result"
        }
      ],
      "source": [
        "#Checking how many countries have produced a TV Show for Netlix\n",
        "len(df_tv.groupby('country').count().index)"
      ]
    },
    {
      "cell_type": "code",
      "execution_count": null,
      "id": "76732671",
      "metadata": {
        "execution": {
          "iopub.execute_input": "2022-09-24T05:59:54.992522Z",
          "iopub.status.busy": "2022-09-24T05:59:54.992109Z",
          "iopub.status.idle": "2022-09-24T05:59:55.349970Z",
          "shell.execute_reply": "2022-09-24T05:59:55.349148Z"
        },
        "papermill": {
          "duration": 0.379371,
          "end_time": "2022-09-24T05:59:55.352092",
          "exception": false,
          "start_time": "2022-09-24T05:59:54.972721",
          "status": "completed"
        },
        "tags": [],
        "id": "76732671",
        "outputId": "9aa3abe1-9360-4862-d591-21fe05bb4090"
      },
      "outputs": [
        {
          "data": {
            "image/png": "[encoded data removed]",
            "text/plain": [
              "<Figure size 1440x720 with 1 Axes>"
            ]
          },
          "metadata": {
            "needs_background": "light"
          },
          "output_type": "display_data"
        }
      ],
      "source": [
        "# Considering there are too many countries, we will limit our study to just the top 10 countries.\n",
        "sort_order = df_tv.groupby('country').count().sort_values(by = 'show_id',ascending=False)[0:10].index\n",
        "df_tv_c = df_tv[df_tv['country'].isin(sort_order)]\n",
        "base_color = base_color = sns.color_palette()[0]\n",
        "plt.figure(figsize=[20,10])\n",
        "tv_c = sns.countplot(x='country',data=df_tv_c,order=sort_order, color = base_color)\n",
        "tv_c.set_title(\"Number of Netflix's TV Shows produced by Country\",fontsize = 20)\n",
        "tv_c.set_xlabel('Country',fontsize = 15)\n",
        "tv_c.set_ylabel('Number of TV Shows',fontsize = 15)\n",
        "for container in tv_c.containers:\n",
        "    tv_c.bar_label(container)"
      ]
    },
    {
      "cell_type": "markdown",
      "id": "26b253cd",
      "metadata": {
        "papermill": {
          "duration": 0.025396,
          "end_time": "2022-09-24T06:00:00.627063",
          "exception": false,
          "start_time": "2022-09-24T06:00:00.601667",
          "status": "completed"
        },
        "tags": [],
        "id": "26b253cd"
      },
      "source": [
        "Relationship between Netflix's TV Shows genres and the year added to the platform.\n",
        "For this analysis an assumption had to be made, the first category that appears on a TV show would be classified as the 'main' category, followed by the secondary and the third.      \n",
        "\n",
        "Most of the TV shows produced were International TV Shows followed by Crime shows and Kids TV.\n",
        "\n",
        "For secondary genres, most of TV shows do not have a secondary genre . But the rest were mainly classified as International TV Shows, TV dramas and TV comedies.\n",
        "\n",
        "For third genres, Most of TV shows do not have a third genre. But the rest were mainly classified as TV Dramas, TV comedies and Romantic TV shows.\n",
        "\n",
        "Since International TV Shows is a broad genre, we also performed an analysis on the secondary genres for International TV Shows. The result was that most of them do not have a secondary genre. But the rest were mainly classified as TV Dramas, Romantic TV shows and TV comedies."
      ]
    },
    {
      "cell_type": "markdown",
      "id": "3185b734",
      "metadata": {
        "papermill": {
          "duration": 0.026131,
          "end_time": "2022-09-24T06:00:01.481451",
          "exception": false,
          "start_time": "2022-09-24T06:00:01.455320",
          "status": "completed"
        },
        "tags": [],
        "id": "3185b734"
      },
      "source": [
        " Movies"
      ]
    },
    {
      "cell_type": "code",
      "execution_count": null,
      "id": "85a1e669",
      "metadata": {
        "execution": {
          "iopub.execute_input": "2022-09-24T06:00:01.537789Z",
          "iopub.status.busy": "2022-09-24T06:00:01.537331Z",
          "iopub.status.idle": "2022-09-24T06:00:01.885551Z",
          "shell.execute_reply": "2022-09-24T06:00:01.884244Z"
        },
        "papermill": {
          "duration": 0.379206,
          "end_time": "2022-09-24T06:00:01.888112",
          "exception": false,
          "start_time": "2022-09-24T06:00:01.508906",
          "status": "completed"
        },
        "tags": [],
        "id": "85a1e669",
        "outputId": "7d9902c1-45f7-4482-d810-7a8caf1a2ec8"
      },
      "outputs": [
        {
          "data": {
            "image/png": "[encoded data removed]",
            "text/plain": [
              "<Figure size 1440x720 with 1 Axes>"
            ]
          },
          "metadata": {
            "needs_background": "light"
          },
          "output_type": "display_data"
        }
      ],
      "source": [
        "# Considering there are too many countries, we will limit our study to just the top 10 countries.\n",
        "sort_order = df_movie.groupby('country').count().sort_values(by = 'show_id',ascending=False)[0:10].index\n",
        "df_movie_c = df_movie[df_movie['country'].isin(sort_order)]\n",
        "base_color = base_color = sns.color_palette()[0]\n",
        "plt.figure(figsize=[20,10])\n",
        "movie_c = sns.countplot(x='country',data=df_movie_c,order=sort_order, color = base_color)\n",
        "movie_c.set_title(\"Number of Netflix's Movies produced by Country\",fontsize = 20)\n",
        "movie_c.set_xlabel('Country',fontsize = 15)\n",
        "movie_c.set_ylabel('Number of Movies',fontsize = 15)\n",
        "for container in movie_c.containers:\n",
        "    movie_c.bar_label(container)"
      ]
    }
  ],
  "metadata": {
    "kernelspec": {
      "display_name": "Python 3",
      "language": "python",
      "name": "python3"
    },
    "language_info": {
      "codemirror_mode": {
        "name": "ipython",
        "version": 3
      },
      "file_extension": ".py",
      "mimetype": "text/x-python",
      "name": "python",
      "nbconvert_exporter": "python",
      "pygments_lexer": "ipython3",
      "version": "3.7.12"
    },
    "papermill": {
      "default_parameters": {},
      "duration": 27.835882,
      "end_time": "2022-09-24T06:00:09.688527",
      "environment_variables": {},
      "exception": null,
      "input_path": "__notebook__.ipynb",
      "output_path": "__notebook__.ipynb",
      "parameters": {},
      "start_time": "2022-09-24T05:59:41.852645",
      "version": "2.3.4"
    },
    "colab": {
      "provenance": []
    }
  },
  "nbformat": 4,
  "nbformat_minor": 5
}